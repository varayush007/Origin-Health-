{
  "nbformat": 4,
  "nbformat_minor": 0,
  "metadata": {
    "colab": {
      "provenance": [],
      "gpuType": "T4"
    },
    "kernelspec": {
      "name": "python3",
      "display_name": "Python 3"
    },
    "language_info": {
      "name": "python"
    },
    "accelerator": "GPU"
  },
  "cells": [
    {
      "cell_type": "code",
      "execution_count": 11,
      "metadata": {
        "colab": {
          "base_uri": "https://localhost:8080/"
        },
        "id": "YJx1YJr5yZpV",
        "outputId": "18869d0f-e031-4ea7-e2a6-720b1257f66f"
      },
      "outputs": [
        {
          "output_type": "stream",
          "name": "stdout",
          "text": [
            "Drive already mounted at /content/drive; to attempt to forcibly remount, call drive.mount(\"/content/drive\", force_remount=True).\n"
          ]
        }
      ],
      "source": [
        "from google.colab import drive\n",
        "drive.mount('/content/drive')"
      ]
    },
    {
      "cell_type": "code",
      "source": [
        "import os\n",
        "from PIL import Image\n",
        "import torch\n",
        "import torch.nn as nn\n",
        "from torch.utils.data import Dataset, DataLoader, random_split\n",
        "import torchvision.transforms as transforms"
      ],
      "metadata": {
        "id": "_kvOHUBb2BkD"
      },
      "execution_count": 12,
      "outputs": []
    },
    {
      "cell_type": "code",
      "source": [
        "# Defining the Segmentation Dataset class\n",
        "class SegmentationDataset(Dataset):\n",
        "    def __init__(self, image_dir, mask_dir, transform=None):\n",
        "        self.image_dir = image_dir\n",
        "        self.mask_dir = mask_dir\n",
        "        self.transform = transform\n",
        "        self.image_files = os.listdir(image_dir)\n",
        "        self.mask_files = os.listdir(mask_dir)\n",
        "\n",
        "    def __len__(self):\n",
        "        return len(self.image_files)\n",
        "\n",
        "    def __getitem__(self, idx):\n",
        "        img_name = os.path.join(self.image_dir, self.image_files[idx])\n",
        "        mask_name = os.path.join(self.mask_dir, self.mask_files[idx])\n",
        "\n",
        "        image = Image.open(img_name).convert(\"RGB\")\n",
        "        mask = Image.open(mask_name).convert(\"L\")\n",
        "\n",
        "        if self.transform:\n",
        "            image = self.transform(image)\n",
        "            mask = self.transform(mask)\n",
        "\n",
        "        return {'image': image, 'mask': mask}"
      ],
      "metadata": {
        "id": "VK_0xqYz2KPG"
      },
      "execution_count": 13,
      "outputs": []
    },
    {
      "cell_type": "code",
      "source": [
        "# Defining the augmented transformations\n",
        "aug_transform = transforms.Compose([\n",
        "    transforms.Resize((256, 256)),\n",
        "    transforms.RandomHorizontalFlip(),\n",
        "    transforms.RandomVerticalFlip(),\n",
        "    transforms.RandomRotation(30),\n",
        "    transforms.ColorJitter(brightness=0.1, contrast=0.1, saturation=0.1, hue=0.1),\n",
        "    transforms.ToTensor()\n",
        "])"
      ],
      "metadata": {
        "id": "1XrCgALn2LRC"
      },
      "execution_count": 14,
      "outputs": []
    },
    {
      "cell_type": "code",
      "source": [
        "# Defining image and mask directories\n",
        "image_dir = '/content/drive/MyDrive/images'\n",
        "mask_dir = '/content/drive/MyDrive/masks'"
      ],
      "metadata": {
        "id": "wi-J7Dxy2M93"
      },
      "execution_count": 15,
      "outputs": []
    },
    {
      "cell_type": "code",
      "source": [
        "# Creating augmented dataset\n",
        "augmented_dataset = SegmentationDataset(image_dir, mask_dir, transform=aug_transform)"
      ],
      "metadata": {
        "id": "1YX9kiBH2PaP"
      },
      "execution_count": 16,
      "outputs": []
    },
    {
      "cell_type": "code",
      "source": [
        "# Spliting the augmented dataset\n",
        "train_size_aug = int(0.6 * len(augmented_dataset))\n",
        "val_size_aug = int(0.2 * len(augmented_dataset))\n",
        "test_size_aug = len(augmented_dataset) - train_size_aug - val_size_aug\n",
        "\n",
        "train_dataset_aug, val_dataset_aug, test_dataset_aug = random_split(augmented_dataset,\n",
        "                                                                    [train_size_aug, val_size_aug, test_size_aug])\n",
        "\n",
        "# Defining batch size and create data loaders for augmented dataset\n",
        "batch_size_aug = 16\n",
        "train_loader_aug = DataLoader(train_dataset_aug, batch_size=batch_size_aug, shuffle=True)\n",
        "val_loader_aug = DataLoader(val_dataset_aug, batch_size=batch_size_aug, shuffle=False)\n",
        "test_loader_aug = DataLoader(test_dataset_aug, batch_size=batch_size_aug, shuffle=False)"
      ],
      "metadata": {
        "id": "Yf6ZxXXX2QGH"
      },
      "execution_count": 17,
      "outputs": []
    },
    {
      "cell_type": "code",
      "source": [
        "# Defining the UNet architecture for segmentation\n",
        "class UNet(nn.Module):\n",
        "    def __init__(self):\n",
        "        super(UNet, self).__init__()\n",
        "        # Defining encoder layers\n",
        "        self.encoder = nn.Sequential(\n",
        "            nn.Conv2d(3, 64, kernel_size=3, padding=1),\n",
        "            nn.ReLU(inplace=True),\n",
        "            nn.Conv2d(64, 64, kernel_size=3, padding=1),\n",
        "            nn.ReLU(inplace=True),\n",
        "            nn.MaxPool2d(kernel_size=2, stride=2),\n",
        "            nn.Conv2d(64, 128, kernel_size=3, padding=1),\n",
        "            nn.ReLU(inplace=True),\n",
        "            nn.Conv2d(128, 128, kernel_size=3, padding=1),\n",
        "            nn.ReLU(inplace=True),\n",
        "            nn.MaxPool2d(kernel_size=2, stride=2)\n",
        "        )\n",
        "        # Defining decoder layers\n",
        "        self.decoder = nn.Sequential(\n",
        "            nn.ConvTranspose2d(128, 64, kernel_size=2, stride=2),\n",
        "            nn.ReLU(inplace=True),\n",
        "            nn.Conv2d(64, 64, kernel_size=3, padding=1),\n",
        "            nn.ReLU(inplace=True),\n",
        "            nn.ConvTranspose2d(64, 64, kernel_size=2, stride=2),  # Additional upsampling layer\n",
        "            nn.ReLU(inplace=True),\n",
        "            nn.Conv2d(64, 1, kernel_size=1)\n",
        "        )\n",
        "\n",
        "    def forward(self, x):\n",
        "        x = self.encoder(x)\n",
        "        x = self.decoder(x)\n",
        "        return x"
      ],
      "metadata": {
        "id": "vNyPMCEr2YXJ"
      },
      "execution_count": 18,
      "outputs": []
    },
    {
      "cell_type": "code",
      "source": [
        "# Defining Binary Cross-Entropy Loss for segmentation\n",
        "criterion_seg = nn.BCEWithLogitsLoss()\n",
        "\n",
        "# Defining a new segmentation model instance\n",
        "segmentation_model_h2 = UNet()\n",
        "\n",
        "# Defining new optimizer with adjusted learning rate\n",
        "optimizer_seg_h2 = torch.optim.Adam(segmentation_model_h2.parameters(), lr=0.0001)"
      ],
      "metadata": {
        "id": "TnPJKPrt2ZWB"
      },
      "execution_count": 19,
      "outputs": []
    },
    {
      "cell_type": "code",
      "source": [
        "# Training the segmentation model with augmented dataset and early stopping\n",
        "num_epochs_aug = 10\n",
        "early_stopping_patience = 3\n",
        "best_val_loss = float('inf')\n",
        "epochs_no_improve = 0\n",
        "\n",
        "for epoch in range(num_epochs_aug):\n",
        "    segmentation_model_h2.train()\n",
        "    running_loss_aug = 0.0\n",
        "\n",
        "    # Training loop\n",
        "    for batch_idx, batch_aug in enumerate(train_loader_aug):\n",
        "        images_aug, masks_aug = batch_aug['image'], batch_aug['mask']\n",
        "\n",
        "        optimizer_seg_h2.zero_grad()\n",
        "\n",
        "        outputs_aug = segmentation_model_h2(images_aug)\n",
        "        masks_aug_resized = nn.functional.interpolate(masks_aug, size=outputs_aug.shape[2:], mode='bilinear', align_corners=True)\n",
        "\n",
        "        loss_aug = criterion_seg(outputs_aug, masks_aug_resized)\n",
        "        loss_aug.backward()\n",
        "        optimizer_seg_h2.step()\n",
        "\n",
        "        running_loss_aug += loss_aug.item() * images_aug.size(0)\n",
        "\n",
        "    epoch_loss_aug = running_loss_aug / len(train_dataset_aug)\n",
        "    print(f'Augmented Segmentation Epoch [{epoch + 1}/{num_epochs_aug}], Training Loss: {epoch_loss_aug:.4f}')\n",
        "\n",
        "    # Validation loop\n",
        "    segmentation_model_h2.eval()\n",
        "    val_loss_aug = 0.0\n",
        "\n",
        "    with torch.no_grad():\n",
        "        for batch_idx, batch_val in enumerate(val_loader_aug):\n",
        "            images_val, masks_val = batch_val['image'], batch_val['mask']\n",
        "            outputs_val = segmentation_model_h2(images_val)\n",
        "            masks_val_resized = nn.functional.interpolate(masks_val, size=outputs_val.shape[2:], mode='bilinear', align_corners=True)\n",
        "            val_loss_aug += criterion_seg(outputs_val, masks_val_resized).item() * images_val.size(0)\n",
        "\n",
        "    val_loss_aug /= len(val_dataset_aug)\n",
        "    print(f'Augmented Segmentation Validation Loss: {val_loss_aug:.4f}')\n",
        "\n",
        "    # Check for early stopping\n",
        "    if val_loss_aug < best_val_loss:\n",
        "        best_val_loss = val_loss_aug\n",
        "        epochs_no_improve = 0\n",
        "    else:\n",
        "        epochs_no_improve += 1\n",
        "        if epochs_no_improve >= early_stopping_patience:\n",
        "            print(f'Early stopping after epoch {epoch + 1}')\n",
        "            break\n"
      ],
      "metadata": {
        "colab": {
          "base_uri": "https://localhost:8080/"
        },
        "id": "6y21xX8eKh5S",
        "outputId": "1881738f-3c71-4839-ba66-c3419e497cb0"
      },
      "execution_count": 22,
      "outputs": [
        {
          "output_type": "stream",
          "name": "stdout",
          "text": [
            "Augmented Segmentation Epoch [1/10], Training Loss: 0.1972\n",
            "Augmented Segmentation Validation Loss: 0.0734\n",
            "Augmented Segmentation Epoch [2/10], Training Loss: 0.0700\n",
            "Augmented Segmentation Validation Loss: 0.0583\n",
            "Augmented Segmentation Epoch [3/10], Training Loss: 0.0556\n",
            "Augmented Segmentation Validation Loss: 0.0534\n",
            "Augmented Segmentation Epoch [4/10], Training Loss: 0.0505\n",
            "Augmented Segmentation Validation Loss: 0.0482\n",
            "Augmented Segmentation Epoch [5/10], Training Loss: 0.0465\n",
            "Augmented Segmentation Validation Loss: 0.0450\n",
            "Augmented Segmentation Epoch [6/10], Training Loss: 0.0440\n",
            "Augmented Segmentation Validation Loss: 0.0431\n",
            "Augmented Segmentation Epoch [7/10], Training Loss: 0.0429\n",
            "Augmented Segmentation Validation Loss: 0.0424\n",
            "Augmented Segmentation Epoch [8/10], Training Loss: 0.0426\n",
            "Augmented Segmentation Validation Loss: 0.0419\n",
            "Augmented Segmentation Epoch [9/10], Training Loss: 0.0421\n",
            "Augmented Segmentation Validation Loss: 0.0418\n",
            "Augmented Segmentation Epoch [10/10], Training Loss: 0.0420\n",
            "Augmented Segmentation Validation Loss: 0.0420\n"
          ]
        }
      ]
    },
    {
      "cell_type": "code",
      "source": [
        "torch.save(segmentation_model_h2.state_dict(), '/content/drive/MyDrive/SEG_Hypothesis_2.pth')"
      ],
      "metadata": {
        "id": "hlwHKTicZayI"
      },
      "execution_count": 24,
      "outputs": []
    }
  ]
}