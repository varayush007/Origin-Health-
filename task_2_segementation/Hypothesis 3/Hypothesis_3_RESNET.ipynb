{
  "nbformat": 4,
  "nbformat_minor": 0,
  "metadata": {
    "colab": {
      "provenance": [],
      "gpuType": "T4"
    },
    "kernelspec": {
      "name": "python3",
      "display_name": "Python 3"
    },
    "language_info": {
      "name": "python"
    },
    "accelerator": "GPU"
  },
  "cells": [
    {
      "cell_type": "code",
      "execution_count": 2,
      "metadata": {
        "colab": {
          "base_uri": "https://localhost:8080/"
        },
        "id": "NaQjKtjtBo59",
        "outputId": "31fcd958-43c5-43a3-a386-e921ca27b1eb"
      },
      "outputs": [
        {
          "output_type": "stream",
          "name": "stdout",
          "text": [
            "Mounted at /content/drive\n"
          ]
        }
      ],
      "source": [
        "from google.colab import drive\n",
        "drive.mount('/content/drive')"
      ]
    },
    {
      "cell_type": "code",
      "source": [
        "import os\n",
        "from PIL import Image\n",
        "import torch\n",
        "import torch.nn as nn\n",
        "from torch.utils.data import Dataset, DataLoader, random_split\n",
        "import torchvision.transforms as transforms\n",
        "import torchvision.models as models"
      ],
      "metadata": {
        "id": "GOAVSwmPEqvm"
      },
      "execution_count": 3,
      "outputs": []
    },
    {
      "cell_type": "code",
      "source": [
        "# Defining the Segmentation Dataset class\n",
        "class SegmentationDataset(Dataset):\n",
        "    def __init__(self, image_dir, mask_dir, transform=None):\n",
        "        self.image_dir = image_dir\n",
        "        self.mask_dir = mask_dir\n",
        "        self.transform = transform\n",
        "        self.image_files = os.listdir(image_dir)\n",
        "        self.mask_files = os.listdir(mask_dir)\n",
        "\n",
        "    def __len__(self):\n",
        "        return len(self.image_files)\n",
        "\n",
        "    def __getitem__(self, idx):\n",
        "        img_name = os.path.join(self.image_dir, self.image_files[idx])\n",
        "        mask_name = os.path.join(self.mask_dir, self.mask_files[idx])\n",
        "\n",
        "        image = Image.open(img_name).convert(\"RGB\")\n",
        "        mask = Image.open(mask_name).convert(\"L\")\n",
        "\n",
        "        if self.transform:\n",
        "            image = self.transform(image)\n",
        "            mask = self.transform(mask)\n",
        "\n",
        "        return {'image': image, 'mask': mask}"
      ],
      "metadata": {
        "id": "IV08956_ExSy"
      },
      "execution_count": 4,
      "outputs": []
    },
    {
      "cell_type": "code",
      "source": [
        "# Defining image and mask directories\n",
        "image_dir = '/content/drive/MyDrive/images'\n",
        "mask_dir = '/content/drive/MyDrive/masks'"
      ],
      "metadata": {
        "id": "sKMJp-22ExPQ"
      },
      "execution_count": 5,
      "outputs": []
    },
    {
      "cell_type": "code",
      "source": [
        "# Defining augmented transformations\n",
        "aug_transform = transforms.Compose([\n",
        "    transforms.Resize((256, 256)),\n",
        "    transforms.RandomHorizontalFlip(),\n",
        "    transforms.RandomVerticalFlip(),\n",
        "    transforms.RandomRotation(30),\n",
        "    transforms.ColorJitter(brightness=0.1, contrast=0.1, saturation=0.1, hue=0.1),\n",
        "    transforms.ToTensor()\n",
        "])"
      ],
      "metadata": {
        "id": "i7NLMRPrExMo"
      },
      "execution_count": 6,
      "outputs": []
    },
    {
      "cell_type": "code",
      "source": [
        "# Creating augmented dataset\n",
        "augmented_dataset = SegmentationDataset(image_dir, mask_dir, transform=aug_transform)"
      ],
      "metadata": {
        "id": "BR4FK-ZxExKR"
      },
      "execution_count": 7,
      "outputs": []
    },
    {
      "cell_type": "code",
      "source": [
        "# Spliting the augmented dataset\n",
        "train_size_aug = int(0.6 * len(augmented_dataset))\n",
        "val_size_aug = int(0.2 * len(augmented_dataset))\n",
        "test_size_aug = len(augmented_dataset) - train_size_aug - val_size_aug\n",
        "\n",
        "train_dataset_aug, val_dataset_aug, test_dataset_aug = random_split(augmented_dataset,\n",
        "                                                                    [train_size_aug, val_size_aug, test_size_aug])\n",
        "\n",
        "# Defining batch size and creating data loaders for augmented dataset\n",
        "batch_size_aug = 16\n",
        "train_loader_aug = DataLoader(train_dataset_aug, batch_size=batch_size_aug, shuffle=True)\n",
        "val_loader_aug = DataLoader(val_dataset_aug, batch_size=batch_size_aug, shuffle=False)\n",
        "test_loader_aug = DataLoader(test_dataset_aug, batch_size=batch_size_aug, shuffle=False)\n"
      ],
      "metadata": {
        "id": "06AJPhuqExH9"
      },
      "execution_count": 8,
      "outputs": []
    },
    {
      "cell_type": "code",
      "source": [
        "# Defining the UNet architecture for segmentation with ResNet-50 backbone\n",
        "class UNetWithResNet(nn.Module):\n",
        "    def __init__(self):\n",
        "        super(UNetWithResNet, self).__init__()\n",
        "        # Loading pre-trained ResNet-50 as encoder\n",
        "        self.encoder = models.resnet50(pretrained=True)\n",
        "        # Modifing the first layer to accept 3 channels instead of 1\n",
        "        self.encoder.conv1 = nn.Conv2d(3, 64, kernel_size=7, stride=2, padding=3, bias=False)\n",
        "        # Defining decoder layers\n",
        "        self.decoder = nn.Sequential(\n",
        "            nn.ConvTranspose2d(2048, 1024, kernel_size=2, stride=2),\n",
        "            nn.ReLU(inplace=True),\n",
        "            nn.Conv2d(1024, 512, kernel_size=3, padding=1),\n",
        "            nn.ReLU(inplace=True),\n",
        "            nn.ConvTranspose2d(512, 256, kernel_size=2, stride=2),\n",
        "            nn.ReLU(inplace=True),\n",
        "            nn.Conv2d(256, 128, kernel_size=3, padding=1),\n",
        "            nn.ReLU(inplace=True),\n",
        "            nn.ConvTranspose2d(128, 64, kernel_size=2, stride=2),\n",
        "            nn.ReLU(inplace=True),\n",
        "            nn.Conv2d(64, 1, kernel_size=1)\n",
        "        )\n",
        "\n",
        "    def forward(self, x):\n",
        "        # Forward pass through ResNet-50 encoder\n",
        "        x = self.encoder.conv1(x)\n",
        "        x = self.encoder.bn1(x)\n",
        "        x = self.encoder.relu(x)\n",
        "        x = self.encoder.maxpool(x)\n",
        "        x = self.encoder.layer1(x)\n",
        "        x = self.encoder.layer2(x)\n",
        "        x = self.encoder.layer3(x)\n",
        "        x = self.encoder.layer4(x)\n",
        "        # Forward pass through decoder\n",
        "        x = self.decoder(x)\n",
        "        return x"
      ],
      "metadata": {
        "id": "MJwBYeP5ExFY"
      },
      "execution_count": 9,
      "outputs": []
    },
    {
      "cell_type": "code",
      "source": [
        "# Defining Binary Cross-Entropy Loss for segmentation\n",
        "criterion_seg = nn.BCEWithLogitsLoss()\n",
        "\n",
        "# Defining a new segmentation model instance with ResNet-50 backbone\n",
        "segmentation_model_h3 = UNetWithResNet()\n",
        "\n",
        "# Freezing the ResNet-50 layers\n",
        "for param in segmentation_model_h3.encoder.parameters():\n",
        "    param.requires_grad = False\n",
        "\n",
        "# Defining new optimizer with adjusted learning rate\n",
        "optimizer_seg_h3 = torch.optim.Adam(segmentation_model_h3.decoder.parameters(), lr=0.0001)"
      ],
      "metadata": {
        "colab": {
          "base_uri": "https://localhost:8080/"
        },
        "id": "1XNTs5JiExDZ",
        "outputId": "a355fd31-d004-4aee-b733-1b915a9a1034"
      },
      "execution_count": 10,
      "outputs": [
        {
          "output_type": "stream",
          "name": "stderr",
          "text": [
            "/usr/local/lib/python3.10/dist-packages/torchvision/models/_utils.py:208: UserWarning: The parameter 'pretrained' is deprecated since 0.13 and may be removed in the future, please use 'weights' instead.\n",
            "  warnings.warn(\n",
            "/usr/local/lib/python3.10/dist-packages/torchvision/models/_utils.py:223: UserWarning: Arguments other than a weight enum or `None` for 'weights' are deprecated since 0.13 and may be removed in the future. The current behavior is equivalent to passing `weights=ResNet50_Weights.IMAGENET1K_V1`. You can also use `weights=ResNet50_Weights.DEFAULT` to get the most up-to-date weights.\n",
            "  warnings.warn(msg)\n",
            "Downloading: \"https://download.pytorch.org/models/resnet50-0676ba61.pth\" to /root/.cache/torch/hub/checkpoints/resnet50-0676ba61.pth\n",
            "100%|██████████| 97.8M/97.8M [00:00<00:00, 117MB/s]\n"
          ]
        }
      ]
    },
    {
      "cell_type": "code",
      "source": [
        "# Initializing variables for early stopping\n",
        "num_epochs_aug = 10\n",
        "best_val_loss = float('inf')\n",
        "patience = 3  # Number of epochs to wait if validation loss stops improving\n",
        "counter = 0  # Counter to keep track of epochs without improvement\n",
        "\n",
        "# Training the segmentation model with augmented dataset and early stopping\n",
        "for epoch in range(num_epochs_aug):\n",
        "    segmentation_model_h3.train()\n",
        "    running_loss_aug = 0.0\n",
        "\n",
        "    for batch_idx, batch_aug in enumerate(train_loader_aug):\n",
        "        images_aug, masks_aug = batch_aug['image'], batch_aug['mask']\n",
        "\n",
        "        optimizer_seg_h3.zero_grad()\n",
        "\n",
        "        outputs_aug = segmentation_model_h3(images_aug)\n",
        "        masks_aug_resized = nn.functional.interpolate(masks_aug, size=outputs_aug.shape[2:], mode='bilinear', align_corners=True)\n",
        "\n",
        "        loss_aug = criterion_seg(outputs_aug, masks_aug_resized)\n",
        "        loss_aug.backward()\n",
        "        optimizer_seg_h3.step()\n",
        "\n",
        "        running_loss_aug += loss_aug.item() * images_aug.size(0)\n",
        "\n",
        "    epoch_loss_aug = running_loss_aug / len(train_dataset_aug)\n",
        "    print(f'Augmented Segmentation Epoch [{epoch + 1}/{num_epochs_aug}], Training Loss: {epoch_loss_aug:.4f}')\n",
        "\n",
        "    # Validation loss calculation\n",
        "    segmentation_model_h3.eval()\n",
        "    val_loss = 0.0\n",
        "    with torch.no_grad():\n",
        "        for batch_idx, batch_val in enumerate(val_loader_aug):\n",
        "            images_val, masks_val = batch_val['image'], batch_val['mask']\n",
        "            outputs_val = segmentation_model_h3(images_val)\n",
        "            outputs_val_resized = nn.functional.interpolate(outputs_val, size=(256, 256), mode='bilinear', align_corners=False)\n",
        "            loss_val = criterion_seg(outputs_val_resized, masks_val)\n",
        "            val_loss += loss_val.item() * images_val.size(0)\n",
        "    val_loss /= len(val_dataset_aug)\n",
        "    print(f'Validation Loss: {val_loss:.4f}')\n",
        "\n",
        "    # Checking for improvement in validation loss\n",
        "    if val_loss < best_val_loss:\n",
        "        best_val_loss = val_loss\n",
        "        counter = 0\n",
        "    else:\n",
        "        counter += 1\n",
        "\n",
        "    # Checking if early stopping conditions are met\n",
        "    if counter >= patience:\n",
        "        print(\"Early stopping triggered! Validation loss has not improved for {} epochs.\".format(patience))\n",
        "        break\n"
      ],
      "metadata": {
        "colab": {
          "base_uri": "https://localhost:8080/"
        },
        "id": "leV0VQPjEwxx",
        "outputId": "7ea83803-fd9a-4596-8388-cd6a33d61b81"
      },
      "execution_count": 11,
      "outputs": [
        {
          "output_type": "stream",
          "name": "stdout",
          "text": [
            "Augmented Segmentation Epoch [1/10], Training Loss: 0.3414\n",
            "Validation Loss: 0.1358\n",
            "Augmented Segmentation Epoch [2/10], Training Loss: 0.0851\n",
            "Validation Loss: 0.0648\n",
            "Augmented Segmentation Epoch [3/10], Training Loss: 0.0631\n",
            "Validation Loss: 0.0552\n",
            "Augmented Segmentation Epoch [4/10], Training Loss: 0.0560\n",
            "Validation Loss: 0.0526\n",
            "Augmented Segmentation Epoch [5/10], Training Loss: 0.0511\n",
            "Validation Loss: 0.0486\n",
            "Augmented Segmentation Epoch [6/10], Training Loss: 0.0475\n",
            "Validation Loss: 0.0460\n",
            "Augmented Segmentation Epoch [7/10], Training Loss: 0.0450\n",
            "Validation Loss: 0.0447\n",
            "Augmented Segmentation Epoch [8/10], Training Loss: 0.0436\n",
            "Validation Loss: 0.0432\n",
            "Augmented Segmentation Epoch [9/10], Training Loss: 0.0425\n",
            "Validation Loss: 0.0422\n",
            "Augmented Segmentation Epoch [10/10], Training Loss: 0.0420\n",
            "Validation Loss: 0.0419\n"
          ]
        }
      ]
    },
    {
      "cell_type": "code",
      "source": [
        "torch.save(segmentation_model_h3.state_dict(), '/content/drive/MyDrive/SEG_Hypothesis_3.pth')"
      ],
      "metadata": {
        "id": "oXuO9__qUUFZ"
      },
      "execution_count": 12,
      "outputs": []
    }
  ]
}